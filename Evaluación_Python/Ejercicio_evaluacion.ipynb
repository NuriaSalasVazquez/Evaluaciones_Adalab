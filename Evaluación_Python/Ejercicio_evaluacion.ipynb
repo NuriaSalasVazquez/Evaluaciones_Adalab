{
 "cells": [
  {
   "cell_type": "markdown",
   "metadata": {},
   "source": [
    "                                Ejercicio de Evaluacion\n",
    "\n",
    "                                    TIENDA ONLINE"
   ]
  },
  {
   "cell_type": "code",
   "execution_count": 1,
   "metadata": {},
   "outputs": [
    {
     "name": "stdout",
     "output_type": "stream",
     "text": [
      "Producto 'pañuelos' agregado al inventario.\n"
     ]
    }
   ],
   "source": [
    "class TiendaOnline:\n",
    "\n",
    "    def __init__(self):\n",
    "\n",
    "        self.inventario = []  # Lista vacía de productos\n",
    "        self.ventas_totales=0.0\n",
    "\n",
    "    def agregar_producto(self, nombre, precio, cantidad):#parametros que se pasan cuando se llama a la funcion\n",
    "    \n",
    "    \n",
    "        # Crear el diccionario del producto\n",
    "        producto = {\"nombre\": nombre, \"precio\": precio, \"cantidad\": cantidad}\n",
    "        #Se asignan los valores de los parámetros nombre, precio y cantidad, que son pasados a la función cuando se llam\n",
    "        \n",
    "        # Verificar si el producto ya existe en el inventario\n",
    "        for p in self.inventario:  #Esto recorre (itera) todos los productos en el inventario.\n",
    "           \n",
    "            if p['nombre'].lower() == nombre.lower():\n",
    "                print(\"El producto ya existe. Se ha actualizado la cantidad.\")\n",
    "                p['cantidad'] += cantidad\n",
    "                return     #Una vez que el producto se encuentra y su cantidad se actualiza, el break detiene la ejecución del ciclo for. \n",
    "        \n",
    "            # Añadir el nuevo producto al inventario\n",
    "        self.inventario.append(producto)\n",
    "        print(f\"Producto '{nombre}' agregado al inventario.\")\n",
    "\n",
    "\n",
    "    def ver_inventario(self):\n",
    "    \n",
    "        for p in self.inventario:\n",
    "\n",
    "            print(f\"Nombre: {p['nombre']}, Precio: {p['precio']}$, Cantidad: {p['cantidad']}\")  \n",
    "            # Esto accede al valor asociado con la clave 'nombre' dentro del diccionario p. \n",
    "\n",
    "\n",
    "    def buscar_producto(self,nombre):\n",
    "        \n",
    "        for p in self.inventario:\n",
    "\n",
    "            if p['nombre'].lower()==nombre.lower() :               \n",
    "                print(f\"Nombre:{p['nombre']}, Precio:{p['precio']}$, Cantidad:{p['cantidad']}\")\n",
    "                return\n",
    "            \n",
    "        print( f\"el producto '{nombre}' no existe\")\n",
    "\n",
    "\n",
    "    def actualizar_stock(self,nombre,cantidad):\n",
    "\n",
    "        for p in self.inventario:\n",
    "            if p['nombre'].lower()==nombre.lower():\n",
    "                 p['cantidad']+=cantidad\n",
    "                 print(f\"la cantidad de:{p['nombre']} se ha actualizado a: {p['cantidad']}\")\n",
    "                 return\n",
    "           \n",
    "        print(\"el articulo no existe\")   \n",
    "\n",
    "    def eliminar_producto(self,nombre):\n",
    "   \n",
    "        for p in self.inventario:\n",
    "            if p['nombre'].lower()== nombre.lower() :\n",
    "                self.inventario.remove(p)\n",
    "                return\n",
    "        \n",
    "        print(\"no esta en stock\")    \n",
    "    \n",
    "    def calcular_valor_inventario(self):\n",
    "        lista_precios=[]      \n",
    "        precio_total= sum (lista_precios)  \n",
    "    \n",
    "        for p in self.inventario:\n",
    "                       \n",
    "            precio_cantidad=p[\"precio\"]*p[\"cantidad\"]\n",
    "            lista_precios.append(precio_cantidad)\n",
    "\n",
    "        precio_total= sum (lista_precios)   \n",
    "        return print( precio_total,\"$\")\n",
    "\n",
    "\n",
    "# Crear una instancia de TiendaOnline\n",
    "\n",
    "mi_tienda = TiendaOnline()\n",
    "\n",
    "# Agregar productos al inventario\n",
    "\n",
    "mi_tienda.agregar_producto(\"pañuelos\", 9.9, 20)\n",
    "\n",
    "\n"
   ]
  },
  {
   "cell_type": "code",
   "execution_count": 2,
   "metadata": {},
   "outputs": [
    {
     "name": "stdout",
     "output_type": "stream",
     "text": [
      "Nombre: pañuelos, Precio: 9.9$, Cantidad: 20\n"
     ]
    }
   ],
   "source": [
    "mi_tienda.ver_inventario()"
   ]
  },
  {
   "cell_type": "code",
   "execution_count": 3,
   "metadata": {},
   "outputs": [
    {
     "name": "stdout",
     "output_type": "stream",
     "text": [
      "Producto 'pantuflas' agregado al inventario.\n"
     ]
    }
   ],
   "source": [
    "mi_tienda.agregar_producto(\"pantuflas\", 6.50, 15)"
   ]
  },
  {
   "cell_type": "code",
   "execution_count": 4,
   "metadata": {},
   "outputs": [
    {
     "name": "stdout",
     "output_type": "stream",
     "text": [
      "Nombre:pantuflas, Precio:6.5$, Cantidad:15\n"
     ]
    }
   ],
   "source": [
    "mi_tienda.buscar_producto(\"pantuflas\")"
   ]
  },
  {
   "cell_type": "code",
   "execution_count": 5,
   "metadata": {},
   "outputs": [
    {
     "name": "stdout",
     "output_type": "stream",
     "text": [
      "el producto 'cinturon' no existe\n"
     ]
    }
   ],
   "source": [
    "mi_tienda.buscar_producto(\"cinturon\")"
   ]
  },
  {
   "cell_type": "code",
   "execution_count": 6,
   "metadata": {},
   "outputs": [
    {
     "name": "stdout",
     "output_type": "stream",
     "text": [
      "295.5 $\n"
     ]
    }
   ],
   "source": [
    "mi_tienda.calcular_valor_inventario()"
   ]
  },
  {
   "cell_type": "code",
   "execution_count": 7,
   "metadata": {},
   "outputs": [
    {
     "name": "stdout",
     "output_type": "stream",
     "text": [
      "The Zen of Python, by Tim Peters\n",
      "\n",
      "Beautiful is better than ugly.\n",
      "Explicit is better than implicit.\n",
      "Simple is better than complex.\n",
      "Complex is better than complicated.\n",
      "Flat is better than nested.\n",
      "Sparse is better than dense.\n",
      "Readability counts.\n",
      "Special cases aren't special enough to break the rules.\n",
      "Although practicality beats purity.\n",
      "Errors should never pass silently.\n",
      "Unless explicitly silenced.\n",
      "In the face of ambiguity, refuse the temptation to guess.\n",
      "There should be one-- and preferably only one --obvious way to do it.\n",
      "Although that way may not be obvious at first unless you're Dutch.\n",
      "Now is better than never.\n",
      "Although never is often better than *right* now.\n",
      "If the implementation is hard to explain, it's a bad idea.\n",
      "If the implementation is easy to explain, it may be a good idea.\n",
      "Namespaces are one honking great idea -- let's do more of those!\n"
     ]
    }
   ],
   "source": [
    "import this"
   ]
  },
  {
   "cell_type": "code",
   "execution_count": null,
   "metadata": {},
   "outputs": [],
   "source": []
  },
  {
   "cell_type": "code",
   "execution_count": null,
   "metadata": {},
   "outputs": [],
   "source": []
  },
  {
   "cell_type": "code",
   "execution_count": null,
   "metadata": {},
   "outputs": [],
   "source": []
  },
  {
   "cell_type": "code",
   "execution_count": null,
   "metadata": {},
   "outputs": [],
   "source": []
  }
 ],
 "metadata": {
  "kernelspec": {
   "display_name": "base",
   "language": "python",
   "name": "python3"
  },
  "language_info": {
   "codemirror_mode": {
    "name": "ipython",
    "version": 3
   },
   "file_extension": ".py",
   "mimetype": "text/x-python",
   "name": "python",
   "nbconvert_exporter": "python",
   "pygments_lexer": "ipython3",
   "version": "3.12.7"
  }
 },
 "nbformat": 4,
 "nbformat_minor": 2
}
